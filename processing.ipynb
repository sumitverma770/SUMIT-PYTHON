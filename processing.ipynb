{
 "cells": [
  {
   "cell_type": "code",
   "execution_count": 4,
   "metadata": {},
   "outputs": [
    {
     "name": "stdout",
     "output_type": "stream",
     "text": [
      "Collecting page 1...\n",
      "Collecting page 2...\n"
     ]
    }
   ],
   "source": [
    "from dputils.scrape import Scraper, Tag\n",
    "import pandas as pd\n",
    "\n",
    "class MyScraper:\n",
    "    def __init__(self, query, page=1):\n",
    "        self.query = query\n",
    "        self.page = page\n",
    "        self.url = f'https://www.flipkart.com/search?q={query}&page={page}'\n",
    "        self.dataset = []\n",
    "\n",
    "    def collect(self):\n",
    "        print(f'Collecting page {self.page}...')\n",
    "        sc = Scraper(self.url)\n",
    "        target = Tag(cls='_1YokD2 _3Mn1Gg')\n",
    "        items = Tag(cls='_1AtVbE col-12-12')\n",
    "        title = Tag(cls='_4rR01T')\n",
    "        price = Tag(cls='_30jeq3 _1_WHN1')\n",
    "        rating = Tag('span', cls='_2_R_DZ')\n",
    "        out = sc.get_all(target, items, name=title, price=price, rr=rating)\n",
    "        return out\n",
    "    \n",
    "    def collect_all(self):\n",
    "        while True:\n",
    "            result = self.collect()\n",
    "            if len(result) == 0:\n",
    "                break\n",
    "            self.dataset.extend(result)\n",
    "            self.page += 1\n",
    "            self.url = f'https://www.flipkart.com/search?q={self.query}&page={self.page}'\n",
    "    \n",
    "    def save(self, filename):\n",
    "        df = pd.DataFrame(self.dataset)\n",
    "        df.dropna(how='all', inplace=True)\n",
    "        df.to_csv(filename, index=False)\n",
    "\n",
    "\n",
    "if __name__ == '__main__':\n",
    "    # create object\n",
    "    sc = MyScraper('laptop')\n",
    "    # collect data\n",
    "    sc.collect_all()\n",
    "    # save data\n",
    "    sc.save('laptop.csv')"
   ]
  },
  {
   "cell_type": "code",
   "execution_count": 12,
   "metadata": {},
   "outputs": [],
   "source": [
    "def get_brand_name(name):\n",
    "            brand = name.split()[0]\n",
    "            brand = brand.lower()\n",
    "            return brand"
   ]
  },
  {
   "cell_type": "code",
   "execution_count": 9,
   "metadata": {},
   "outputs": [
    {
     "data": {
      "text/plain": [
       "'redmibook'"
      ]
     },
     "execution_count": 9,
     "metadata": {},
     "output_type": "execute_result"
    }
   ],
   "source": [
    "get_brand_name('RedmiBook Pro Core i5 11th Gen - (8 GB/512 GB)')\n"
   ]
  },
  {
   "cell_type": "code",
   "execution_count": null,
   "metadata": {},
   "outputs": [],
   "source": [
    "def clean_price_column(price)"
   ]
  }
 ],
 "metadata": {
  "kernelspec": {
   "display_name": "base",
   "language": "python",
   "name": "python3"
  },
  "language_info": {
   "codemirror_mode": {
    "name": "ipython",
    "version": 3
   },
   "file_extension": ".py",
   "mimetype": "text/x-python",
   "name": "python",
   "nbconvert_exporter": "python",
   "pygments_lexer": "ipython3",
   "version": "3.10.9"
  },
  "orig_nbformat": 4,
  "vscode": {
   "interpreter": {
    "hash": "5b6002d1e928962cd19dde4287e8a81266a3dfa22c12012df96bb19a6e27b9c0"
   }
  }
 },
 "nbformat": 4,
 "nbformat_minor": 2
}
