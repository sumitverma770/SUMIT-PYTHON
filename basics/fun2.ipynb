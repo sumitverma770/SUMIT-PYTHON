{
 "cells": [
  {
   "cell_type": "code",
   "execution_count": 14,
   "metadata": {},
   "outputs": [],
   "source": [
    "def add_v2(*args):#tuple\n",
    "    total=0\n",
    "    for i in args:\n",
    "        total += i\n",
    "    return total"
   ]
  },
  {
   "cell_type": "code",
   "execution_count": 15,
   "metadata": {},
   "outputs": [
    {
     "name": "stdout",
     "output_type": "stream",
     "text": [
      "12\n",
      "133\n"
     ]
    }
   ],
   "source": [
    "print(add_v2(12))\n",
    "print(add_v2(12,45,76))"
   ]
  },
  {
   "cell_type": "code",
   "execution_count": 20,
   "metadata": {},
   "outputs": [],
   "source": [
    "def mul_v2(*args):\n",
    "    total=1\n",
    "    for i in args:\n",
    "        total= i*total\n",
    "        return total"
   ]
  },
  {
   "cell_type": "code",
   "execution_count": 22,
   "metadata": {},
   "outputs": [
    {
     "name": "stdout",
     "output_type": "stream",
     "text": [
      "4\n",
      "7\n"
     ]
    }
   ],
   "source": [
    "print(mul_v2(4))\n",
    "print(mul_v2(7,6,7))"
   ]
  },
  {
   "cell_type": "code",
   "execution_count": 29,
   "metadata": {},
   "outputs": [],
   "source": [
    "def display_menu(**items):#dictionary\n",
    "    if len(items) > 0:\n",
    "        for i  in items:\n",
    "            print(f'{i:10} rs{items[i]}')"
   ]
  },
  {
   "cell_type": "code",
   "execution_count": 30,
   "metadata": {},
   "outputs": [
    {
     "name": "stdout",
     "output_type": "stream",
     "text": [
      "idli       rs50\n"
     ]
    }
   ],
   "source": [
    "display_menu(idli = 50)"
   ]
  },
  {
   "cell_type": "code",
   "execution_count": 31,
   "metadata": {},
   "outputs": [
    {
     "name": "stdout",
     "output_type": "stream",
     "text": [
      "pizza      rs160\n",
      "manchurian rs70\n"
     ]
    }
   ],
   "source": [
    "display_menu(pizza=160,manchurian=70)"
   ]
  },
  {
   "cell_type": "code",
   "execution_count": 34,
   "metadata": {},
   "outputs": [
    {
     "name": "stdout",
     "output_type": "stream",
     "text": [
      "-1892\n",
      "-3927\n",
      "-4653\n"
     ]
    }
   ],
   "source": [
    "#anonymus function(be namm functions)\n",
    "#without name function is called lambada function\n",
    "xlist = [32,43,54]\n",
    "ylist = [54,76,87]\n",
    "def eq(x,y):\n",
    "    return(x+y)*(x-y)\n",
    "for i,j in zip(xlist,ylist):\n",
    "    print(eq(i,j))\n"
   ]
  },
  {
   "cell_type": "code",
   "execution_count": 35,
   "metadata": {},
   "outputs": [],
   "source": [
    "f = lambda x : x+10/x-10*x-10"
   ]
  },
  {
   "cell_type": "code",
   "execution_count": 36,
   "metadata": {},
   "outputs": [
    {
     "data": {
      "text/plain": [
       "-819.8888888888889"
      ]
     },
     "execution_count": 36,
     "metadata": {},
     "output_type": "execute_result"
    }
   ],
   "source": [
    "f(90)"
   ]
  },
  {
   "cell_type": "code",
   "execution_count": 37,
   "metadata": {},
   "outputs": [
    {
     "data": {
      "text/plain": [
       "[-1892, -3927, -4653]"
      ]
     },
     "execution_count": 37,
     "metadata": {},
     "output_type": "execute_result"
    }
   ],
   "source": [
    "list(map(lambda x,y: (x+y) *(x-y),xlist,ylist))"
   ]
  },
  {
   "cell_type": "code",
   "execution_count": 38,
   "metadata": {},
   "outputs": [],
   "source": [
    "#initial generator\n",
    "names = ['sumit verma','kanupriya raj' , 'megha kumari','alok shukla','anand singh','janvi dixit']\n",
    "\n"
   ]
  },
  {
   "cell_type": "code",
   "execution_count": 41,
   "metadata": {},
   "outputs": [
    {
     "data": {
      "text/plain": [
       "'sv'"
      ]
     },
     "execution_count": 41,
     "metadata": {},
     "output_type": "execute_result"
    }
   ],
   "source": [
    "'sumit verma'.split()[0][0]+'sumit verma'.split()[1][0]"
   ]
  },
  {
   "cell_type": "code",
   "execution_count": 42,
   "metadata": {},
   "outputs": [
    {
     "name": "stdout",
     "output_type": "stream",
     "text": [
      "sumit verma sv\n",
      "kanupriya raj kr\n",
      "megha kumari mk\n",
      "alok shukla as\n",
      "anand singh as\n",
      "janvi dixit jd\n"
     ]
    }
   ],
   "source": [
    "def get_initials(name):\n",
    "    return name.split()[0][0] +name.split()[1][0]\n",
    "for name in names:\n",
    "    print(name,get_initials(name))"
   ]
  },
  {
   "cell_type": "code",
   "execution_count": 44,
   "metadata": {},
   "outputs": [
    {
     "data": {
      "text/plain": [
       "['sv', 'kr', 'mk', 'as', 'as', 'jd']"
      ]
     },
     "execution_count": 44,
     "metadata": {},
     "output_type": "execute_result"
    }
   ],
   "source": [
    "list(map(lambda n:n.split()[0][0]+n.split()[1][0],names))"
   ]
  },
  {
   "cell_type": "code",
   "execution_count": null,
   "metadata": {},
   "outputs": [],
   "source": []
  }
 ],
 "metadata": {
  "kernelspec": {
   "display_name": "base",
   "language": "python",
   "name": "python3"
  },
  "language_info": {
   "codemirror_mode": {
    "name": "ipython",
    "version": 3
   },
   "file_extension": ".py",
   "mimetype": "text/x-python",
   "name": "python",
   "nbconvert_exporter": "python",
   "pygments_lexer": "ipython3",
   "version": "3.10.9"
  },
  "orig_nbformat": 4,
  "vscode": {
   "interpreter": {
    "hash": "5b6002d1e928962cd19dde4287e8a81266a3dfa22c12012df96bb19a6e27b9c0"
   }
  }
 },
 "nbformat": 4,
 "nbformat_minor": 2
}
