{
 "cells": [
  {
   "cell_type": "code",
   "execution_count": null,
   "metadata": {},
   "outputs": [],
   "source": []
  },
  {
   "attachments": {},
   "cell_type": "markdown",
   "metadata": {},
   "source": [
    "dictonary rule\n",
    "- oedered\n",
    "- mutable(changeble)\n",
    "- unindexed\n",
    "- allows duplicate value, but keys are unique\n",
    "- key:value pairs\n",
    "- keys are immutable(cannot be changed)\n",
    "- value can be heterogenous(different types of data)\n",
    "- denoted by{}\n",
    "- an list of tuple can be converted to dict using 'dict()' function\n",
    "# what u need to learn\n",
    "- creat dictionary\n",
    "- methods"
   ]
  },
  {
   "cell_type": "code",
   "execution_count": 2,
   "metadata": {},
   "outputs": [],
   "source": [
    "series = {'title':'walking dead','total season':'9','avilable on':'netflix','genre':'action/thriller'}"
   ]
  },
  {
   "cell_type": "code",
   "execution_count": 4,
   "metadata": {},
   "outputs": [
    {
     "data": {
      "text/plain": [
       "'walking dead'"
      ]
     },
     "execution_count": 4,
     "metadata": {},
     "output_type": "execute_result"
    }
   ],
   "source": [
    "series['title']"
   ]
  },
  {
   "cell_type": "code",
   "execution_count": 14,
   "metadata": {},
   "outputs": [],
   "source": [
    "series1 = {}#empt dict"
   ]
  },
  {
   "cell_type": "code",
   "execution_count": 15,
   "metadata": {},
   "outputs": [],
   "source": [
    "series1['title'] ='Flash'"
   ]
  },
  {
   "cell_type": "code",
   "execution_count": 16,
   "metadata": {},
   "outputs": [
    {
     "data": {
      "text/plain": [
       "{'title': 'Flash'}"
      ]
     },
     "execution_count": 16,
     "metadata": {},
     "output_type": "execute_result"
    }
   ],
   "source": [
    "series1"
   ]
  },
  {
   "cell_type": "code",
   "execution_count": 17,
   "metadata": {},
   "outputs": [],
   "source": [
    "series1['title'] = 'arrow'\n"
   ]
  },
  {
   "cell_type": "code",
   "execution_count": 18,
   "metadata": {},
   "outputs": [],
   "source": [
    "series1['season'] = 8\n",
    "series1['genre'] = 'action'\n",
    "series1['studio'] = 'dc comics'"
   ]
  },
  {
   "cell_type": "code",
   "execution_count": 19,
   "metadata": {},
   "outputs": [
    {
     "data": {
      "text/plain": [
       "{'title': 'arrow', 'season': 8, 'genre': 'action', 'studio': 'dc comics'}"
      ]
     },
     "execution_count": 19,
     "metadata": {},
     "output_type": "execute_result"
    }
   ],
   "source": [
    "series1"
   ]
  },
  {
   "cell_type": "code",
   "execution_count": 20,
   "metadata": {},
   "outputs": [],
   "source": [
    "#nested dictionary\n",
    "books ={\n",
    "    'book 1':{\n",
    "    'title':'the alloy of law',\n",
    "    'author':'Brandon sanderson',\n",
    "    'summary':'western meets steapunk in this new mistborn series'\n",
    "    },\n",
    "    'book 2':{\n",
    "    'title':'the bands of mourning',\n",
    "    'author':'brandon sanderson',\n",
    "    'summary':'how a monk live a life'\n",
    "    },\n",
    "    'book 3':{\n",
    "    'title':'the lost metal',\n",
    "    'author':'brandson sanderson',\n",
    "    'summary':'the fourth book in a mistborn era 2'\n",
    "    }\n",
    "}"
   ]
  },
  {
   "cell_type": "code",
   "execution_count": 21,
   "metadata": {},
   "outputs": [
    {
     "data": {
      "text/plain": [
       "{'title': 'the alloy of law',\n",
       " 'author': 'Brandon sanderson',\n",
       " 'summary': 'western meets steapunk in this new mistborn series'}"
      ]
     },
     "execution_count": 21,
     "metadata": {},
     "output_type": "execute_result"
    }
   ],
   "source": [
    "books['book 1']"
   ]
  },
  {
   "cell_type": "code",
   "execution_count": 22,
   "metadata": {},
   "outputs": [
    {
     "data": {
      "text/plain": [
       "'the bands of mourning'"
      ]
     },
     "execution_count": 22,
     "metadata": {},
     "output_type": "execute_result"
    }
   ],
   "source": [
    "books['book 2']['title']"
   ]
  },
  {
   "cell_type": "code",
   "execution_count": 25,
   "metadata": {},
   "outputs": [
    {
     "name": "stdout",
     "output_type": "stream",
     "text": [
      "title Flash\n",
      "total season 9\n",
      "avilable on netflix\n",
      "genre action/thriller\n"
     ]
    }
   ],
   "source": [
    "for k,v in series.items():\n",
    "    print(k,v)\n",
    "\n"
   ]
  },
  {
   "cell_type": "code",
   "execution_count": 27,
   "metadata": {},
   "outputs": [
    {
     "name": "stdout",
     "output_type": "stream",
     "text": [
      "book 1 title the alloy of law\n",
      "book 1 author Brandon sanderson\n",
      "book 1 summary western meets steapunk in this new mistborn series\n",
      "book 2 title the bands of mourning\n",
      "book 2 author brandon sanderson\n",
      "book 2 summary how a monk live a life\n",
      "book 3 title the lost metal\n",
      "book 3 author brandson sanderson\n",
      "book 3 summary the fourth book in a mistborn era 2\n"
     ]
    }
   ],
   "source": [
    "for k,v in books.items():\n",
    "    for k1,v1 in v.items():\n",
    "        print(k,k1,v1)\n"
   ]
  },
  {
   "cell_type": "code",
   "execution_count": 28,
   "metadata": {},
   "outputs": [
    {
     "data": {
      "text/plain": [
       "['title', 'season', 'genre', 'studio']"
      ]
     },
     "execution_count": 28,
     "metadata": {},
     "output_type": "execute_result"
    }
   ],
   "source": [
    "list(series1.keys())"
   ]
  },
  {
   "cell_type": "code",
   "execution_count": 29,
   "metadata": {},
   "outputs": [
    {
     "data": {
      "text/plain": [
       "['arrow', 8, 'action', 'dc comics']"
      ]
     },
     "execution_count": 29,
     "metadata": {},
     "output_type": "execute_result"
    }
   ],
   "source": [
    "list(series1.values())"
   ]
  },
  {
   "cell_type": "code",
   "execution_count": 30,
   "metadata": {},
   "outputs": [
    {
     "data": {
      "text/plain": [
       "dict_items([('title', 'arrow'), ('season', 8), ('genre', 'action'), ('studio', 'dc comics')])"
      ]
     },
     "execution_count": 30,
     "metadata": {},
     "output_type": "execute_result"
    }
   ],
   "source": [
    "series1.items()"
   ]
  },
  {
   "cell_type": "code",
   "execution_count": 42,
   "metadata": {},
   "outputs": [
    {
     "name": "stdout",
     "output_type": "stream",
     "text": [
      "{'name': 'sumit', 'phone': '8953560099'}\n"
     ]
    }
   ],
   "source": [
    "contact ={}\n",
    "nm = input('enter the name:')\n",
    "ph = input('enter phone number:')\n",
    "contact['name']= nm\n",
    "contact['phone']= ph\n",
    "print(contact)"
   ]
  }
 ],
 "metadata": {
  "kernelspec": {
   "display_name": "base",
   "language": "python",
   "name": "python3"
  },
  "language_info": {
   "codemirror_mode": {
    "name": "ipython",
    "version": 3
   },
   "file_extension": ".py",
   "mimetype": "text/x-python",
   "name": "python",
   "nbconvert_exporter": "python",
   "pygments_lexer": "ipython3",
   "version": "3.10.9"
  },
  "orig_nbformat": 4,
  "vscode": {
   "interpreter": {
    "hash": "5b6002d1e928962cd19dde4287e8a81266a3dfa22c12012df96bb19a6e27b9c0"
   }
  }
 },
 "nbformat": 4,
 "nbformat_minor": 2
}
