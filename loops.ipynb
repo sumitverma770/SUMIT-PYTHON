{
 "cells": [
  {
   "cell_type": "code",
   "execution_count": 2,
   "metadata": {},
   "outputs": [
    {
     "name": "stdout",
     "output_type": "stream",
     "text": [
      "12\n",
      "52\n",
      "13\n",
      "24\n"
     ]
    }
   ],
   "source": [
    "x =[12, 52, 13,24]\n",
    "for i in x:\n",
    "    print(i)"
   ]
  },
  {
   "cell_type": "code",
   "execution_count": 5,
   "metadata": {},
   "outputs": [
    {
     "name": "stdout",
     "output_type": "stream",
     "text": [
      "have you seentiger?\n",
      "have you seenelephant?\n",
      "have you seenleopard?\n"
     ]
    }
   ],
   "source": [
    "animals = ['tiger','elephant','leopard']\n",
    "for animal in animals:\n",
    "    print(f'have you seen{animal}?')\n",
    "    "
   ]
  },
  {
   "cell_type": "markdown",
   "metadata": {},
   "source": []
  },
  {
   "cell_type": "code",
   "execution_count": 7,
   "metadata": {},
   "outputs": [
    {
     "name": "stdout",
     "output_type": "stream",
     "text": [
      "jumanji             |7\n",
      "resident evil       |13\n",
      "gangs of wasepur    |16\n",
      "kgf                 |3\n",
      "pyar ka punvhanama  |18\n",
      "kamasutra           |9\n",
      "hasi to fasi        |12\n",
      "hulk                |4\n"
     ]
    }
   ],
   "source": [
    "movies = ['jumanji','resident evil','gangs of wasepur','kgf','pyar ka punvhanama','kamasutra','hasi to fasi','hulk']\n",
    "for movie in movies:\n",
    "    print(f'{movie:20}|{len(movie)}')"
   ]
  },
  {
   "cell_type": "code",
   "execution_count": 8,
   "metadata": {},
   "outputs": [
    {
     "name": "stdout",
     "output_type": "stream",
     "text": [
      "red\n",
      "green\n",
      "orange\n",
      "white\n",
      "black\n",
      "blue\n",
      "purple\n",
      "silver\n",
      "burgandi\n",
      "maroon\n",
      "pink\n",
      "gold\n",
      "light green\n"
     ]
    }
   ],
   "source": [
    "colors = ['red','green','orange','white','black','blue','purple','silver','burgandi','maroon','pink','gold','light green']\n",
    "for name in colors:\n",
    "    if'a' in name:\n",
    "        print(name)\n",
    "    if 'a' not in name:\n",
    "        print(name)\n",
    "        "
   ]
  },
  {
   "cell_type": "code",
   "execution_count": 9,
   "metadata": {},
   "outputs": [
    {
     "name": "stdout",
     "output_type": "stream",
     "text": [
      "0 1 2 3 4 5 6 7 8 9 "
     ]
    }
   ],
   "source": [
    "for i in range(10):\n",
    "    print(i,end=' ')#end is special setting in print function\n",
    "    "
   ]
  },
  {
   "cell_type": "code",
   "execution_count": null,
   "metadata": {},
   "outputs": [],
   "source": []
  },
  {
   "cell_type": "code",
   "execution_count": 14,
   "metadata": {},
   "outputs": [
    {
     "name": "stdout",
     "output_type": "stream",
     "text": [
      "15 16 17 18 19 20 21 22 23 24 25 26 27 28 29 30 "
     ]
    }
   ],
   "source": [
    "#15 to 30 iterates\n",
    "for i in range(15,31):\n",
    "    print(i, end=' ')\n",
    "    \n"
   ]
  },
  {
   "cell_type": "code",
   "execution_count": 15,
   "metadata": {},
   "outputs": [
    {
     "name": "stdout",
     "output_type": "stream",
     "text": [
      "10 9 8 7 6 5 4 3 2 1 "
     ]
    }
   ],
   "source": [
    "#reverse loop\n",
    "for i in range(10,0,-1):\n",
    "    print(i, end=\" \")"
   ]
  },
  {
   "cell_type": "code",
   "execution_count": 18,
   "metadata": {},
   "outputs": [
    {
     "name": "stdout",
     "output_type": "stream",
     "text": [
      "(0, 'jumanji')\n",
      "(1, 'resident evil')\n",
      "(2, 'gangs of wasepur')\n",
      "(3, 'kgf')\n",
      "(4, 'pyar ka punvhanama')\n",
      "(5, 'kamasutra')\n",
      "(6, 'hasi to fasi')\n",
      "(7, 'hulk')\n"
     ]
    }
   ],
   "source": [
    "#enumeration\n",
    "for movie in enumerate(movies):\n",
    "    print(movie)"
   ]
  },
  {
   "cell_type": "code",
   "execution_count": 17,
   "metadata": {},
   "outputs": [
    {
     "name": "stdout",
     "output_type": "stream",
     "text": [
      "0 jumanji\n",
      "1 resident evil\n",
      "2 gangs of wasepur\n",
      "3 kgf\n",
      "4 pyar ka punvhanama\n",
      "5 kamasutra\n",
      "6 hasi to fasi\n",
      "7 hulk\n"
     ]
    }
   ],
   "source": [
    "for i, movie in enumerate(movies):\n",
    "    print(i,movie)"
   ]
  },
  {
   "cell_type": "code",
   "execution_count": 32,
   "metadata": {},
   "outputs": [],
   "source": [
    "x=[2,3,45,65,87]\n",
    "y=[2,65,76,0,32],\n",
    "z=[1,54,34,9,00,]\n"
   ]
  },
  {
   "cell_type": "code",
   "execution_count": null,
   "metadata": {},
   "outputs": [],
   "source": [
    "data = [1,2,0,5,6,2,None,]"
   ]
  }
 ],
 "metadata": {
  "kernelspec": {
   "display_name": "base",
   "language": "python",
   "name": "python3"
  },
  "language_info": {
   "codemirror_mode": {
    "name": "ipython",
    "version": 3
   },
   "file_extension": ".py",
   "mimetype": "text/x-python",
   "name": "python",
   "nbconvert_exporter": "python",
   "pygments_lexer": "ipython3",
   "version": "3.10.9"
  },
  "orig_nbformat": 4,
  "vscode": {
   "interpreter": {
    "hash": "5b6002d1e928962cd19dde4287e8a81266a3dfa22c12012df96bb19a6e27b9c0"
   }
  }
 },
 "nbformat": 4,
 "nbformat_minor": 2
}
